{
 "cells": [
  {
   "cell_type": "code",
   "execution_count": 7,
   "metadata": {},
   "outputs": [
    {
     "name": "stdout",
     "output_type": "stream",
     "text": [
      "The autoreload extension is already loaded. To reload it, use:\n",
      "  %reload_ext autoreload\n"
     ]
    }
   ],
   "source": [
    "%load_ext autoreload\n",
    "%autoreload 2"
   ]
  },
  {
   "cell_type": "code",
   "execution_count": 8,
   "metadata": {
    "id": "F9pmKxJqxFun"
   },
   "outputs": [],
   "source": [
    "from math import log, sqrt\n",
    "import numpy as np\n",
    "import random\n",
    "import matplotlib.pyplot as plt\n",
    "from scipy.linalg import hadamard\n",
    "import scipy.io as io\n",
    "import scipy.special as sc\n",
    "from tqdm import tqdm\n",
    "from scipy.stats import ortho_group\n",
    "import os\n",
    "import dp_accounting\n",
    "from dp_accounting import dp_event\n",
    "from dp_accounting import privacy_accountant\n",
    "from dp_accounting import privacy_accountant_test\n",
    "from dp_accounting.rdp import rdp_privacy_accountant\n",
    "from quantized_schemes import *\n",
    "from utils import *\n",
    "import pickle"
   ]
  },
  {
   "cell_type": "code",
   "execution_count": 9,
   "metadata": {},
   "outputs": [],
   "source": [
    "def run_exp(d, n, c, num_itr,delta_target=1e-5,\n",
    "            seed=1234, scaled=True):\n",
    "    # Logging\n",
    "    np.random.seed(seed)\n",
    "    mse_quant, bits_quant = {}, {}\n",
    "    mse_exact, bits_exact = {}, {}\n",
    "    k = [mse_quant, bits_quant, mse_exact, bits_exact]\n",
    "    RDP_ORDERS = np.array(list(range(2, 129, 3)) + [256.])\n",
    "    # Experiments setting\n",
    "    gamma_list = [0.3, 0.5, 1.0]\n",
    "    eps_target_list = np.linspace(start=0.5, stop=4.0, num=15)\n",
    "    if scaled==True:\n",
    "        c = c/np.sqrt(d)\n",
    "    # Get sigma dict\n",
    "    sigma_dic = {}\n",
    "    for eps_target in tqdm(eps_target_list):\n",
    "        for gamma in gamma_list:\n",
    "            sigma = get_SGM_sigma_from_rdp(\n",
    "                n, d, gamma, eps_target, c=c, delta=delta_target)\n",
    "            sigma_dic[(eps_target, gamma)] = sigma\n",
    "            #Initializing ,logging dict\n",
    "            for i in k:\n",
    "                i[(eps_target, gamma)] = np.zeros(num_itr)\n",
    "    #Data generation\n",
    "    X = np.zeros((num_itr,n,d))\n",
    "    for i in range(num_itr):\n",
    "        p = 0.8*np.ones((n, d))\n",
    "        X[i] = c*(2*np.random.binomial(1, p)-1)*np.random.uniform(size=(n, d))\n",
    "    X_true_mean = np.mean(X, axis=1)\n",
    "    print(X_true_mean.shape)\n",
    "    \n",
    "    #Running the scheme for multishift\n",
    "    for gamma in gamma_list:\n",
    "        for eps_target in tqdm(eps_target_list):\n",
    "            sigma = sigma_dic[(eps_target, gamma)]\n",
    "            for i in range(num_itr):\n",
    "                X_priv_mean_e, bits = SIGM(X[i], sigma=sigma, gamma=gamma)\n",
    "                mse_e = np.sum((X_priv_mean_e - X_true_mean[i])**2)\n",
    "                mse_exact[(eps_target, gamma)][i] = mse_e\n",
    "                bits_exact[(eps_target, gamma)][i] = bits\n",
    "\n",
    "            for i in range(num_itr):\n",
    "                # print(np.mean(bits_exact[(eps_target, gamma)]))\n",
    "                b = np.ceil(2**np.mean(bits_exact[(eps_target, gamma)]/(n*d)))\n",
    "                X_priv_mean_q, bits = CSGM(X[i], sigma=sigma, gamma=gamma, s=b)\n",
    "                mse_q = np.sum((X_priv_mean_q - X_true_mean[i])**2)\n",
    "                mse_quant[(eps_target, gamma)][i] = mse_q\n",
    "                bits_quant[(eps_target, gamma)][i] = bits\n",
    "                \n",
    "    print(\"Saving the files\")\n",
    "    name = \"n\"+str(n)+\"_\"+\"d\"+str(d)+\"_\"+\"c\"+str(scaled)+\"_\"+\"delta\"+str(delta_target)\n",
    "    with open(\"new_results\"+\"/\"+\"name\"+\"_exact.pkl\", 'wb') as file:\n",
    "            pickle.dump(mse_exact, file)\n",
    "    with open(\"new_results\"+\"/\"+name+\"_exact_bits.pkl\", 'wb') as file:\n",
    "            pickle.dump(bits_exact, file)\n",
    "    with open(\"new_results\"+\"/\"+name+\"_quant.pkl\", 'wb') as file:\n",
    "            pickle.dump(mse_quant, file)\n",
    "    with open(\"new_results\"+\"/\"+name+\"_quant_bits.pkl\", 'wb') as file:\n",
    "            pickle.dump(bits_quant, file)\n",
    "    return eps_target_list,mse_exact, bits_exact, mse_quant, bits_quant"
   ]
  },
  {
   "cell_type": "code",
   "execution_count": 10,
   "metadata": {},
   "outputs": [],
   "source": [
    "def draw_figures(eps_target_list, mse_exact, bits_exact, mse_quant, bits_quant):\n",
    "    # SIGM\n",
    "    plt.plot(eps_target_list,[np.mean(bits_exact[(e,0.3)] / (d*n)) for e in eps_target_list],\n",
    "        label = rf'SIGM ($\\gamma$=0.1)',color='gold',ms=5,\n",
    "        marker='v',linewidth=1)\n",
    "    plt.plot(eps_target_list,[np.mean(bits_exact[(e,0.5)]/ (d*n)) for e in eps_target_list],\n",
    "        label = rf'SIGM ($\\gamma$=0.5)',color='orange',ms=5,\n",
    "        marker='v',linewidth=1)\n",
    "    plt.plot(eps_target_list,[np.mean(bits_exact[(e,1.0)]/ (d*n)) for e in eps_target_list],\n",
    "        label = rf'SIGM ($\\gamma$=1.0)',color='red',ms=5,\n",
    "        marker='v',linewidth=1)\n",
    "    plt.legend()\n",
    "    plt.show()\n",
    "\n",
    "    plt.figure(figsize=(5,5))\n",
    "    # SIGM\n",
    "    plt.plot(eps_target_list,[np.mean(mse_exact[(e,0.3)]) for e in eps_target_list],\n",
    "        label = rf'SIGM ($\\gamma$=0.3)',color='gold',ms=5,\n",
    "        marker='v',linewidth=1)\n",
    "    plt.plot(eps_target_list,[np.mean(mse_exact[(e,0.5)]) for e in eps_target_list],\n",
    "        label = rf'SIGM ($\\gamma$=0.5)',color='orange',ms=5,\n",
    "        marker='v',linewidth=1)\n",
    "    plt.plot(eps_target_list,[np.mean(mse_exact[(e,1.0)]) for e in eps_target_list],\n",
    "        label = rf'SIGM ($\\gamma$=1.0)',color='red',ms=5,\n",
    "        marker='v',linewidth=1)\n",
    "\n",
    "    # CSGM\n",
    "    plt.plot(eps_target_list,[np.mean(mse_quant[(e,0.3)]) for e in eps_target_list],\n",
    "        linestyle='--',label = rf'CIGM ($\\gamma$=0.3)',color='cyan',ms=4,\n",
    "        marker='o',linewidth=1)\n",
    "    plt.plot(eps_target_list,[np.mean(mse_quant[(e,0.5)]) for e in eps_target_list],\n",
    "        linestyle='--',label = rf'CIGM ($\\gamma$=0.5)',color='dodgerblue',ms=4,\n",
    "        marker='o',linewidth=1)\n",
    "    plt.plot(eps_target_list,[np.mean(mse_quant[(e,1.0)]) for e in eps_target_list],\n",
    "        linestyle='--',label = rf'CIGM ($\\gamma$=1.0)',color='navy',ms=4,\n",
    "        marker='o',linewidth=1)\n",
    "    plt.legend(fontsize=10)\n",
    "    plt.xlabel(r'Privacy ($\\varepsilon$)', fontsize=16)\n",
    "    # plt.text(0.0, 0.35, 'MSE', rotation=90,fontsize=16, va='center')\n",
    "    plt.xticks(fontsize=16)\n",
    "    plt.yticks(fontsize=16)\n",
    "    plt.yscale('log')\n",
    "    plt.grid(alpha=0.2,which='both')\n",
    "    plt.show()    "
   ]
  },
  {
   "cell_type": "code",
   "execution_count": 11,
   "metadata": {},
   "outputs": [],
   "source": [
    "num_itr = 10"
   ]
  },
  {
   "attachments": {},
   "cell_type": "markdown",
   "metadata": {},
   "source": [
    "## Scalled Experiments:\n",
    "    Configurations:\n",
    "        * n=500, d=500\n",
    "        * n=500, d=5_000\n",
    "        * n=500, d=1_000"
   ]
  },
  {
   "attachments": {},
   "cell_type": "markdown",
   "metadata": {},
   "source": [
    "#### Delta  1e-5"
   ]
  },
  {
   "cell_type": "code",
   "execution_count": null,
   "metadata": {},
   "outputs": [],
   "source": [
    "d = 500\n",
    "c = 1\n",
    "n = 500\n",
    "eps_target_list, mse_exact, bits_exact, mse_quant, bits_quant = run_exp(d,n,c,num_itr)\n",
    "draw_figures(eps_target_list, mse_exact, bits_exact, mse_quant, bits_quant)\n"
   ]
  },
  {
   "cell_type": "code",
   "execution_count": null,
   "metadata": {},
   "outputs": [],
   "source": [
    "d = 1000\n",
    "c = 1\n",
    "n = 500\n",
    "eps_target_list, mse_exact, bits_exact, mse_quant, bits_quant = run_exp(d,n,c,num_itr)\n",
    "draw_figures(eps_target_list, mse_exact, bits_exact, mse_quant, bits_quant)"
   ]
  },
  {
   "cell_type": "code",
   "execution_count": null,
   "metadata": {},
   "outputs": [],
   "source": [
    "d = 5000\n",
    "c = 1\n",
    "n = 500\n",
    "eps_target_list, mse_exact, bits_exact, mse_quant, bits_quant = run_exp(d,n,c,num_itr)\n",
    "draw_figures(eps_target_list, mse_exact, bits_exact, mse_quant, bits_quant)"
   ]
  },
  {
   "attachments": {},
   "cell_type": "markdown",
   "metadata": {},
   "source": [
    "#### Delta 1e-6"
   ]
  },
  {
   "cell_type": "code",
   "execution_count": null,
   "metadata": {},
   "outputs": [],
   "source": [
    "d = 500\n",
    "c = 1\n",
    "n = 500\n",
    "eps_target_list, mse_exact, bits_exact, mse_quant, bits_quant = run_exp(d,n,c,num_itr, delta_target = 1e-6)\n",
    "draw_figures(eps_target_list, mse_exact, bits_exact, mse_quant, bits_quant)"
   ]
  },
  {
   "cell_type": "code",
   "execution_count": null,
   "metadata": {},
   "outputs": [],
   "source": [
    "d = 1000\n",
    "c = 1\n",
    "n = 500\n",
    "eps_target_list, mse_exact, bits_exact, mse_quant, bits_quant = run_exp(d,n,c,num_itr, delta_target = 1e-6)\n",
    "draw_figures(eps_target_list, mse_exact, bits_exact, mse_quant, bits_quant)"
   ]
  },
  {
   "cell_type": "code",
   "execution_count": null,
   "metadata": {},
   "outputs": [],
   "source": [
    "d = 5000\n",
    "c = 1\n",
    "n = 500\n",
    "eps_target_list, mse_exact, bits_exact, mse_quant, bits_quant = run_exp(d,n,c,num_itr, delta_target = 1e-6)\n",
    "draw_figures(eps_target_list, mse_exact, bits_exact, mse_quant, bits_quant)"
   ]
  },
  {
   "attachments": {},
   "cell_type": "markdown",
   "metadata": {},
   "source": [
    "# More experiments:"
   ]
  },
  {
   "cell_type": "code",
   "execution_count": null,
   "metadata": {},
   "outputs": [],
   "source": [
    "d = 20\n",
    "c = 1\n",
    "n = 100\n",
    "eps_target_list, mse_exact, bits_exact, mse_quant, bits_quant = run_exp(d,n,c,num_itr,scaled=False)\n",
    "draw_figures(eps_target_list, mse_exact, bits_exact, mse_quant, bits_quant)"
   ]
  },
  {
   "cell_type": "code",
   "execution_count": null,
   "metadata": {},
   "outputs": [],
   "source": [
    "d = 20\n",
    "c = 1\n",
    "n = 200\n",
    "eps_target_list, mse_exact, bits_exact, mse_quant, bits_quant = run_exp(d,n,c,num_itr,scaled=False)\n",
    "draw_figures(eps_target_list, mse_exact, bits_exact, mse_quant, bits_quant)"
   ]
  },
  {
   "cell_type": "code",
   "execution_count": null,
   "metadata": {},
   "outputs": [],
   "source": [
    "d = 20\n",
    "c = 1\n",
    "n = 100\n",
    "eps_target_list, mse_exact, bits_exact, mse_quant, bits_quant = run_exp(d,n,c,num_itr,scaled=False)\n",
    "draw_figures(eps_target_list, mse_exact, bits_exact, mse_quant, bits_quant)"
   ]
  },
  {
   "cell_type": "code",
   "execution_count": 12,
   "metadata": {},
   "outputs": [
    {
     "name": "stderr",
     "output_type": "stream",
     "text": [
      " 67%|██████▋   | 10/15 [00:26<00:13,  2.71s/it]"
     ]
    }
   ],
   "source": [
    "d = 20\n",
    "c = 1\n",
    "n = 100\n",
    "eps_target_list, mse_exact, bits_exact, mse_quant, bits_quant = run_exp(d,n,c,num_itr,scaled=False)\n",
    "draw_figures(eps_target_list, mse_exact, bits_exact, mse_quant, bits_quant)"
   ]
  },
  {
   "cell_type": "code",
   "execution_count": null,
   "metadata": {},
   "outputs": [],
   "source": [
    "d = 20\n",
    "c = 1\n",
    "n = 100\n",
    "eps_target_list, mse_exact, bits_exact, mse_quant, bits_quant = run_exp(d,n,c,num_itr,scaled=True)\n",
    "draw_figures(eps_target_list, mse_exact, bits_exact, mse_quant, bits_quant)"
   ]
  },
  {
   "cell_type": "code",
   "execution_count": null,
   "metadata": {},
   "outputs": [],
   "source": [
    "d = 100\n",
    "c = 1\n",
    "n = 1000\n",
    "eps_target_list, mse_exact, bits_exact, mse_quant, bits_quant = run_exp(d,n,c,num_itr,scaled=False)\n",
    "draw_figures(eps_target_list, mse_exact, bits_exact, mse_quant, bits_quant)"
   ]
  }
 ],
 "metadata": {
  "colab": {
   "provenance": [],
   "toc_visible": true
  },
  "kernelspec": {
   "display_name": "Python 3",
   "language": "python",
   "name": "python3"
  },
  "language_info": {
   "codemirror_mode": {
    "name": "ipython",
    "version": 3
   },
   "file_extension": ".py",
   "mimetype": "text/x-python",
   "name": "python",
   "nbconvert_exporter": "python",
   "pygments_lexer": "ipython3",
   "version": "3.9.18"
  }
 },
 "nbformat": 4,
 "nbformat_minor": 1
}
